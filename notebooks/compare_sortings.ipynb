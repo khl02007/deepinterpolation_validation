{
 "cells": [
  {
   "cell_type": "code",
   "execution_count": null,
   "id": "bdfbb6d4-086c-4181-b504-0dd2b616f6be",
   "metadata": {},
   "outputs": [],
   "source": [
    "import spikeinterface as si"
   ]
  }
 ],
 "metadata": {
  "kernelspec": {
   "display_name": "Python 3 (ipykernel)",
   "language": "python",
   "name": "python3"
  },
  "language_info": {
   "codemirror_mode": {
    "name": "ipython",
    "version": 3
   },
   "file_extension": ".py",
   "mimetype": "text/x-python",
   "name": "python",
   "nbconvert_exporter": "python",
   "pygments_lexer": "ipython3",
   "version": "3.8.11"
  }
 },
 "nbformat": 4,
 "nbformat_minor": 5
}
